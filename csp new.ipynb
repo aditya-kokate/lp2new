{
 "cells": [
  {
   "cell_type": "code",
   "execution_count": 2,
   "id": "81a1f636-903a-4e4d-8fb6-9a264db45d2b",
   "metadata": {},
   "outputs": [
    {
     "name": "stdout",
     "output_type": "stream",
     "text": [
      "Aditya Kokate TACO22147\n"
     ]
    },
    {
     "name": "stdin",
     "output_type": "stream",
     "text": [
      "Enter the size of the chessboard:  4\n"
     ]
    },
    {
     "name": "stdout",
     "output_type": "stream",
     "text": [
      "\n",
      "Total solutions: 2\n",
      "\n",
      ".Q..\n",
      "...Q\n",
      "Q...\n",
      "..Q.\n",
      "\n",
      "..Q.\n",
      "Q...\n",
      "...Q\n",
      ".Q..\n",
      "\n"
     ]
    }
   ],
   "source": [
    "# N Queen Problem\n",
    "class nQueens:\n",
    "    def __init__(self, n):\n",
    "        self.n = n\n",
    "        self.board = [[0 for x in range(n)] for y in range(n)]\n",
    "        self.solutions = []\n",
    "\n",
    "    def is_safe(self, row, col):\n",
    "        for i in range(row):\n",
    "            if self.board[i][col] == 1:\n",
    "                return False\n",
    "            for j in range(self.n):\n",
    "                if (self.board[i][j] == 1 and\n",
    "                   (abs(i - row) == abs(j - col))):\n",
    "                    return False\n",
    "        return True\n",
    "\n",
    "    def solve(self, row):\n",
    "        if row == self.n:\n",
    "            solution = []\n",
    "            for i in range(self.n):\n",
    "                row_solution = ''\n",
    "                for j in range(self.n):\n",
    "                    if self.board[i][j] == 1:\n",
    "                        row_solution += 'Q'\n",
    "                    else:\n",
    "                        row_solution += '.'\n",
    "                solution.append(row_solution)\n",
    "            self.solutions.append(solution)\n",
    "            return\n",
    "\n",
    "        for col in range(self.n):\n",
    "            if self.is_safe(row, col):\n",
    "                self.board[row][col] = 1\n",
    "                self.solve(row + 1)\n",
    "                self.board[row][col] = 0  # Backtrack\n",
    "\n",
    "    def print_solutions(self):\n",
    "        if not self.solutions:\n",
    "            print(\"No solutions found.\")\n",
    "        else:\n",
    "            print(f\"\\nTotal solutions: {len(self.solutions)}\\n\")\n",
    "            for solution in self.solutions:\n",
    "                for row in solution:\n",
    "                    print(row)\n",
    "                print()\n",
    "\n",
    "\n",
    "# Main Execution\n",
    "if __name__ == '__main__':\n",
    "    print(\"Aditya Kokate TACO22147\")\n",
    "    n = int(input(\"Enter the size of the chessboard: \"))\n",
    "    queens = nQueens(n)\n",
    "    queens.solve(0)\n",
    "    queens.print_solutions()\n"
   ]
  },
  {
   "cell_type": "code",
   "execution_count": null,
   "id": "975d043b-6777-4756-8c00-a902ddbbfc28",
   "metadata": {},
   "outputs": [],
   "source": []
  }
 ],
 "metadata": {
  "kernelspec": {
   "display_name": "Python [conda env:base] *",
   "language": "python",
   "name": "conda-base-py"
  },
  "language_info": {
   "codemirror_mode": {
    "name": "ipython",
    "version": 3
   },
   "file_extension": ".py",
   "mimetype": "text/x-python",
   "name": "python",
   "nbconvert_exporter": "python",
   "pygments_lexer": "ipython3",
   "version": "3.12.7"
  }
 },
 "nbformat": 4,
 "nbformat_minor": 5
}
