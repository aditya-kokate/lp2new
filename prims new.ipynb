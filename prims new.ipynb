{
 "cells": [
  {
   "cell_type": "code",
   "execution_count": 2,
   "id": "f1aa5739-e34f-4885-9adf-8cd15bf10ffe",
   "metadata": {},
   "outputs": [
    {
     "name": "stdout",
     "output_type": "stream",
     "text": [
      "Aditya Kokate TACO22147\n"
     ]
    },
    {
     "name": "stdin",
     "output_type": "stream",
     "text": [
      "Enter the number of vertices:  5\n"
     ]
    },
    {
     "name": "stdout",
     "output_type": "stream",
     "text": [
      "Enter the graph matrix:\n"
     ]
    },
    {
     "name": "stdin",
     "output_type": "stream",
     "text": [
      " 0 2 0 6 5\n",
      " 0 2 2 5 6\n",
      "  0 2 4 5 6 \n",
      " 0 5 6 2 1\n",
      " 4 5 0 8 0\n",
      "Enter the source vertex (not used in Prim's MST):  0\n"
     ]
    },
    {
     "name": "stdout",
     "output_type": "stream",
     "text": [
      "Edge \tWeight\n",
      "0 - 1 \t 0\n",
      "1 - 2 \t 2\n",
      "1 - 3 \t 5\n",
      "3 - 4 \t 8\n"
     ]
    }
   ],
   "source": [
    "import sys\n",
    "\n",
    "print(\"Aditya Kokate TACO22147\")\n",
    "class Graph():\n",
    "    def __init__(self, vertices):\n",
    "        self.V = vertices\n",
    "        self.graph = [[0 for column in range(vertices)]\n",
    "                      for row in range(vertices)]\n",
    "\n",
    "    def printMST(self, parent):\n",
    "        print(\"Edge \\tWeight\")\n",
    "        for i in range(1, self.V):\n",
    "            print(parent[i], \"-\", i, \"\\t\", self.graph[i][parent[i]])\n",
    "\n",
    "    def minKey(self, key, mstSet):\n",
    "        min = sys.maxsize\n",
    "        min_index = -1\n",
    "\n",
    "        for v in range(self.V):\n",
    "            if key[v] < min and mstSet[v] == False:\n",
    "                min = key[v]\n",
    "                min_index = v\n",
    "\n",
    "        return min_index\n",
    "\n",
    "    def primMST(self):\n",
    "        key = [sys.maxsize] * self.V\n",
    "        parent = [None] * self.V\n",
    "        key[0] = 0\n",
    "        mstSet = [False] * self.V\n",
    "        parent[0] = -1\n",
    "\n",
    "        for cout in range(self.V):\n",
    "            u = self.minKey(key, mstSet)\n",
    "            mstSet[u] = True\n",
    "\n",
    "            for v in range(self.V):\n",
    "                if (self.graph[u][v] > 0 and \n",
    "                    mstSet[v] == False and \n",
    "                    key[v] > self.graph[u][v]):\n",
    "                    key[v] = self.graph[u][v]\n",
    "                    parent[v] = u\n",
    "\n",
    "        self.printMST(parent)\n",
    "\n",
    "if __name__ == '__main__':\n",
    "    vertices = int(input(\"Enter the number of vertices: \"))\n",
    "    g = Graph(vertices)\n",
    "\n",
    "    print(\"Enter the graph matrix:\")\n",
    "    for i in range(vertices):\n",
    "        row = list(map(int, input().split()))\n",
    "        for j in range(vertices):\n",
    "            g.graph[i][j] = row[j]\n",
    "\n",
    "    source_vertex = int(input(\"Enter the source vertex (not used in Prim's MST): \"))\n",
    "    g.primMST()\n"
   ]
  },
  {
   "cell_type": "code",
   "execution_count": null,
   "id": "b0330f15-2767-4a68-a0ad-675f743aeb05",
   "metadata": {},
   "outputs": [],
   "source": []
  }
 ],
 "metadata": {
  "kernelspec": {
   "display_name": "Python [conda env:base] *",
   "language": "python",
   "name": "conda-base-py"
  },
  "language_info": {
   "codemirror_mode": {
    "name": "ipython",
    "version": 3
   },
   "file_extension": ".py",
   "mimetype": "text/x-python",
   "name": "python",
   "nbconvert_exporter": "python",
   "pygments_lexer": "ipython3",
   "version": "3.12.7"
  }
 },
 "nbformat": 4,
 "nbformat_minor": 5
}
