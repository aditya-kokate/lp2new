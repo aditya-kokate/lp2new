{
 "cells": [
  {
   "cell_type": "markdown",
   "id": "4b5a7e1d-8191-43bf-a743-25cdb713d5cc",
   "metadata": {},
   "source": [
    "Chatbot"
   ]
  },
  {
   "cell_type": "code",
   "execution_count": 2,
   "id": "bda36fec-eeac-4fc5-9aea-a38c66075d0c",
   "metadata": {},
   "outputs": [
    {
     "name": "stdout",
     "output_type": "stream",
     "text": [
      "Aditya Kokate TACO22147\n",
      "Welcome to the Chatbot! Type 'exit' or 'quit' to end the conversation.\n"
     ]
    },
    {
     "name": "stdin",
     "output_type": "stream",
     "text": [
      "You:  Hi\n"
     ]
    },
    {
     "name": "stdout",
     "output_type": "stream",
     "text": [
      "Bot: Hello, friend!\n"
     ]
    },
    {
     "name": "stdin",
     "output_type": "stream",
     "text": [
      "You:  My name is Adi\n"
     ]
    },
    {
     "name": "stdout",
     "output_type": "stream",
     "text": [
      "Bot: Nice to meet you, Adi!\n"
     ]
    },
    {
     "name": "stdin",
     "output_type": "stream",
     "text": [
      "You:  How are you?\n"
     ]
    },
    {
     "name": "stdout",
     "output_type": "stream",
     "text": [
      "Bot: All good here! What about you?\n"
     ]
    },
    {
     "name": "stdin",
     "output_type": "stream",
     "text": [
      "You:  I'm fine\n"
     ]
    },
    {
     "name": "stdout",
     "output_type": "stream",
     "text": [
      "Bot: Sorry, I didn't understand that.\n"
     ]
    },
    {
     "name": "stdin",
     "output_type": "stream",
     "text": [
      "You:  Quit\n"
     ]
    },
    {
     "name": "stdout",
     "output_type": "stream",
     "text": [
      "Bot: It was nice chatting with you. Goodbye!\n"
     ]
    }
   ],
   "source": [
    " import random\n",
    "import datetime\n",
    "\n",
    "print(\"Aditya Kokate TACO22147\")\n",
    "print(\"Welcome to the Chatbot! Type 'exit' or 'quit' to end the conversation.\")\n",
    "\n",
    "# Memory for user's name\n",
    "user_name = \"\"\n",
    "\n",
    "# Dictionary of categorized responses\n",
    "responses = {\n",
    "    \"greeting\": [\"Hello\", \"Hi there\", \"Hey\", \"Greetings\"],\n",
    "    \"farewell\": [\"Goodbye\", \"See you later\", \"Take care\"],\n",
    "    \"thanks\": [\"You're welcome\", \"No problem\", \"Anytime!\"],\n",
    "    \"ask_name\": [\"What's your name?\", \"May I know your name?\"],\n",
    "    \"smalltalk\": [\"I'm just a bot, but I'm doing great!\", \"All good here! What about you?\"],\n",
    "    \"default\": [\"I'm not sure I follow. Can you rephrase?\", \"Sorry, I didn't understand that.\", \"Let's try a different topic?\"]\n",
    "}\n",
    "\n",
    "# Function to get time-based greeting\n",
    "def get_time_greeting():\n",
    "    hour = datetime.datetime.now().hour\n",
    "    if 5 <= hour < 12:\n",
    "        return \"Good morning\"\n",
    "    elif 12 <= hour < 17:\n",
    "        return \"Good afternoon\"\n",
    "    elif 17 <= hour < 21:\n",
    "        return \"Good evening\"\n",
    "    else:\n",
    "        return \"Hello night owl\"\n",
    "\n",
    "# Function to generate a response\n",
    "def generate_response(user_input):\n",
    "    global user_name\n",
    "    user_input = user_input.lower()\n",
    "\n",
    "    if \"hello\" in user_input or \"hi\" in user_input:\n",
    "        return f\"{random.choice(responses['greeting'])}, {user_name or 'friend'}!\"\n",
    "    \n",
    "    elif \"morning\" in user_input or \"afternoon\" in user_input or \"evening\" in user_input:\n",
    "        return f\"{get_time_greeting()}, {user_name or 'there'}!\"\n",
    "\n",
    "    elif \"how are you\" in user_input:\n",
    "        return random.choice(responses[\"smalltalk\"])\n",
    "\n",
    "    elif \"name is\" in user_input:\n",
    "        user_name = user_input.split(\"name is\")[-1].strip().capitalize()\n",
    "        return f\"Nice to meet you, {user_name}!\"\n",
    "\n",
    "    elif \"your name\" in user_input:\n",
    "        return \"I'm a simple Python chatbot. You can call me PyBot!\"\n",
    "\n",
    "    elif \"thank\" in user_input:\n",
    "        return random.choice(responses[\"thanks\"])\n",
    "    \n",
    "    elif \"bye\" in user_input or \"goodbye\" in user_input:\n",
    "        return random.choice(responses[\"farewell\"])\n",
    "    \n",
    "    else:\n",
    "        return random.choice(responses[\"default\"])\n",
    "\n",
    "# Main chat loopbye\n",
    "\n",
    "while True:\n",
    "    user_input = input(\"You: \")\n",
    "\n",
    "    if user_input.lower() in [\"exit\", \"quit\"]:\n",
    "        print(\"Bot: It was nice chatting with you. Goodbye!\")\n",
    "        break\n",
    "\n",
    "    response = generate_response(user_input)\n",
    "    print(\"Bot:\", response)\n"
   ]
  },
  {
   "cell_type": "code",
   "execution_count": null,
   "id": "d8c57bfc-06ee-48c1-ac2a-ed348a7e6081",
   "metadata": {},
   "outputs": [],
   "source": []
  }
 ],
 "metadata": {
  "kernelspec": {
   "display_name": "Python [conda env:base] *",
   "language": "python",
   "name": "conda-base-py"
  },
  "language_info": {
   "codemirror_mode": {
    "name": "ipython",
    "version": 3
   },
   "file_extension": ".py",
   "mimetype": "text/x-python",
   "name": "python",
   "nbconvert_exporter": "python",
   "pygments_lexer": "ipython3",
   "version": "3.12.7"
  }
 },
 "nbformat": 4,
 "nbformat_minor": 5
}
