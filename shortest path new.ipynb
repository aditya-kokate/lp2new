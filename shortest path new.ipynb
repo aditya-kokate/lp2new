{
 "cells": [
  {
   "cell_type": "code",
   "execution_count": 1,
   "id": "149f9089-a3b1-4305-aeb8-f57bd3ae10cf",
   "metadata": {},
   "outputs": [
    {
     "name": "stdout",
     "output_type": "stream",
     "text": [
      "Aditya Kokate TACO22147\n"
     ]
    },
    {
     "name": "stdin",
     "output_type": "stream",
     "text": [
      "Enter the number of edges:  6\n",
      "Enter the edge (source destination weight):  a b 2\n",
      "Enter the edge (source destination weight):  a c 4\n",
      "Enter the edge (source destination weight):  b c 3\n",
      "Enter the edge (source destination weight):  b d 1\n",
      "Enter the edge (source destination weight):  c d 6\n",
      "Enter the edge (source destination weight):  d d 5\n",
      "Enter the source node:  a\n"
     ]
    },
    {
     "name": "stdout",
     "output_type": "stream",
     "text": [
      "{'a': 0, 'b': 2, 'c': 4, 'd': 3}\n"
     ]
    }
   ],
   "source": [
    "import sys\n",
    "print(\"Aditya Kokate TACO22147\")\n",
    "def greedy_search(graph, source):\n",
    "    distances = {node: sys.maxsize for node in graph}\n",
    "    distances[source] = 0\n",
    "    unvisited = set(graph.keys())\n",
    "\n",
    "    while unvisited:\n",
    "        current_node = min(unvisited, key=lambda node: distances[node])\n",
    "        unvisited.remove(current_node)\n",
    "\n",
    "        for neighbor, weight in graph[current_node].items():\n",
    "            if neighbor in unvisited:\n",
    "                new_distance = distances[current_node] + weight\n",
    "                if new_distance < distances[neighbor]:\n",
    "                    distances[neighbor] = new_distance\n",
    "\n",
    "    return distances\n",
    "\n",
    "graph = {}\n",
    "n = int(input(\"Enter the number of edges: \"))\n",
    "\n",
    "for i in range(n):\n",
    "    edge = input(\"Enter the edge (source destination weight): \").split()\n",
    "    source_node, destination, weight = edge[0], edge[1], int(edge[2])\n",
    "\n",
    "    if source_node not in graph:\n",
    "        graph[source_node] = {}\n",
    "    graph[source_node][destination] = weight\n",
    "\n",
    "source = input(\"Enter the source node: \")\n",
    "distances = greedy_search(graph, source)\n",
    "print(distances)\n"
   ]
  },
  {
   "cell_type": "code",
   "execution_count": null,
   "id": "7226fbf3-0de5-4770-87f7-db2d497c5f15",
   "metadata": {},
   "outputs": [],
   "source": []
  }
 ],
 "metadata": {
  "kernelspec": {
   "display_name": "Python [conda env:base] *",
   "language": "python",
   "name": "conda-base-py"
  },
  "language_info": {
   "codemirror_mode": {
    "name": "ipython",
    "version": 3
   },
   "file_extension": ".py",
   "mimetype": "text/x-python",
   "name": "python",
   "nbconvert_exporter": "python",
   "pygments_lexer": "ipython3",
   "version": "3.12.7"
  }
 },
 "nbformat": 4,
 "nbformat_minor": 5
}
