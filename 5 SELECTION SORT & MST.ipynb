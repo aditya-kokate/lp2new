{
 "cells": [
  {
   "cell_type": "markdown",
   "id": "5775ccf9",
   "metadata": {},
   "source": [
    "SELECTION SORT\n"
   ]
  },
  {
   "cell_type": "code",
   "execution_count": 1,
   "id": "5cd590e6",
   "metadata": {},
   "outputs": [
    {
     "name": "stdout",
     "output_type": "stream",
     "text": [
      "Name: Prashant Bankar.\n",
      "Roll No.: TACO22153\n",
      "Enter the array elements separated by space: 10 5 2 45 85 6 55\n",
      "Heuristic is used to calculate the distance of each element from its target sorted position.\n",
      "Step 1: Array: [2, 5, 10, 45, 85, 6, 55] | Heuristic: [0, 0, 1, 1, 2, 3, 1]\n",
      "Step 2: Array: [2, 5, 10, 45, 85, 6, 55] | Heuristic: [0, 0, 1, 1, 2, 3, 1]\n",
      "Step 3: Array: [2, 5, 6, 45, 85, 10, 55] | Heuristic: [0, 0, 0, 1, 2, 2, 1]\n",
      "Step 4: Array: [2, 5, 6, 10, 85, 45, 55] | Heuristic: [0, 0, 0, 0, 2, 1, 1]\n",
      "Step 5: Array: [2, 5, 6, 10, 45, 85, 55] | Heuristic: [0, 0, 0, 0, 0, 1, 1]\n",
      "Step 6: Array: [2, 5, 6, 10, 45, 55, 85] | Heuristic: [0, 0, 0, 0, 0, 0, 0]\n",
      "Step 7: Array: [2, 5, 6, 10, 45, 55, 85] | Heuristic: [0, 0, 0, 0, 0, 0, 0]\n",
      "Sorted Array: [2, 5, 6, 10, 45, 55, 85]\n"
     ]
    }
   ],
   "source": [
    "def selectionSort(arr):\n",
    "    def heuristic(arr):\n",
    "        sorted_arr = sorted(arr)\n",
    "        heuristic_values = [abs(arr.index(x) - sorted_arr.index(x)) for x in arr]\n",
    "        return heuristic_values\n",
    "    \n",
    "    print(\"Heuristic is used to calculate the distance of each element from its target sorted position.\")\n",
    "    \n",
    "    for i in range(len(arr)):\n",
    "        min_index = i\n",
    "        for j in range(i + 1, len(arr)):\n",
    "            if arr[j] < arr[min_index]:\n",
    "                min_index = j\n",
    "        arr[i], arr[min_index] = arr[min_index], arr[i]\n",
    "        print(f\"Step {i + 1}: Array: {arr} | Heuristic: {heuristic(arr)}\")\n",
    "    \n",
    "    return arr\n",
    "\n",
    "print(\"Name: Prashant Bankar.\\nRoll No.: TACO22153\")\n",
    "arr = list(map(int, input(\"Enter the array elements separated by space: \").split()))\n",
    "sorted_array = selectionSort(arr)\n",
    "print(\"Sorted Array:\", sorted_array)\n",
    "\n"
   ]
  },
  {
   "cell_type": "code",
   "execution_count": 13,
   "id": "6d68695a",
   "metadata": {},
   "outputs": [
    {
     "name": "stdout",
     "output_type": "stream",
     "text": [
      "Name: Prashant Bankar\n",
      "Roll No.: TACO22153\n",
      "Enter the number of vertices: 4\n",
      "Enter the graph as an adjacency matrix (0 for no edge):\n",
      "0 5 8 0\n",
      "5 0 7 9\n",
      "8 7 0 4\n",
      "0 9 4 0\n",
      "\n",
      "Minimum Spanning Tree (MST):\n",
      "Edge\tWeight\n",
      "0 - 1\t5\n",
      "1 - 2\t7\n",
      "2 - 3\t4\n"
     ]
    }
   ],
   "source": [
    "import sys\n",
    "\n",
    "class Graph:\n",
    "    def __init__(self, vertices):\n",
    "        self.V = vertices\n",
    "        self.graph = [[0] * vertices for _ in range(vertices)]\n",
    "\n",
    "    def printMST(self, parent):\n",
    "        print(\"\\nMinimum Spanning Tree (MST):\")\n",
    "        print(\"Edge\\tWeight\")\n",
    "        for i in range(1, self.V):\n",
    "            print(f\"{parent[i]} - {i}\\t{self.graph[i][parent[i]]}\")\n",
    "\n",
    "    def minKey(self, key, mstSet):\n",
    "        min_val = sys.maxsize\n",
    "        min_index = -1\n",
    "        for v in range(self.V):\n",
    "            if not mstSet[v] and key[v] < min_val:\n",
    "                min_val = key[v]\n",
    "                min_index = v\n",
    "        return min_index\n",
    "\n",
    "    def primMST(self):\n",
    "        key = [sys.maxsize] * self.V\n",
    "        parent = [None] * self.V\n",
    "        mstSet = [False] * self.V\n",
    "\n",
    "        key[0] = 0\n",
    "        parent[0] = -1\n",
    "\n",
    "        for _ in range(self.V):\n",
    "            u = self.minKey(key, mstSet)\n",
    "            mstSet[u] = True\n",
    "\n",
    "            for v in range(self.V):\n",
    "                if self.graph[u][v] > 0 and not mstSet[v] and key[v] > self.graph[u][v]:\n",
    "                    key[v] = self.graph[u][v]\n",
    "                    parent[v] = u\n",
    "\n",
    "        self.printMST(parent)\n",
    "\n",
    "# ----- Main Code -----\n",
    "print(\"Name: Prashant Bankar\\nRoll No.: TACO22153\")\n",
    "V = int(input(\"Enter the number of vertices: \"))\n",
    "g = Graph(V)\n",
    "\n",
    "print(\"Enter the graph as an adjacency matrix (0 for no edge):\")\n",
    "for i in range(V):\n",
    "    row = list(map(int, input().split()))\n",
    "    g.graph[i] = row\n",
    "\n",
    "g.primMST()\n"
   ]
  },
  {
   "cell_type": "code",
   "execution_count": null,
   "id": "da961389",
   "metadata": {},
   "outputs": [],
   "source": []
  }
 ],
 "metadata": {
  "kernelspec": {
   "display_name": "Python [conda env:base] *",
   "language": "python",
   "name": "conda-base-py"
  },
  "language_info": {
   "codemirror_mode": {
    "name": "ipython",
    "version": 3
   },
   "file_extension": ".py",
   "mimetype": "text/x-python",
   "name": "python",
   "nbconvert_exporter": "python",
   "pygments_lexer": "ipython3",
   "version": "3.12.7"
  }
 },
 "nbformat": 4,
 "nbformat_minor": 5
}
