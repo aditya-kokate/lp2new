{
 "cells": [
  {
   "cell_type": "code",
   "execution_count": null,
   "id": "4690fa9b-0e88-409e-93a7-4592cbeed120",
   "metadata": {},
   "outputs": [
    {
     "name": "stdout",
     "output_type": "stream",
     "text": [
      "Aditya Kokate TACO22147\n"
     ]
    }
   ],
   "source": [
    "profit = [] \n",
    "jobs = [] \n",
    "deadline = [] \n",
    "print(\"Aditya Kokate TACO22147\")\n",
    "n = int(input(\"Enter the number of jobs: \")) \n",
    "\n",
    "for i in range(n): \n",
    "    p = int(input(\"Enter the profit of job {}: \".format(i+1)))  \n",
    "    profit.append(p) \n",
    "    j = input(\"Enter the name of job {}: \".format(i+1)) \n",
    "    jobs.append(j) \n",
    "    d = int(input(\"Enter the deadline of job {}: \".format(i+1)))  \n",
    "    deadline.append(d) \n",
    "\n",
    "# Create list of tuples (profit, job, deadline) and sort by profit descending\n",
    "profitNJobs = list(zip(profit, jobs, deadline)) \n",
    "profitNJobs = sorted(profitNJobs, key=lambda x: x[0], reverse=True) \n",
    "\n",
    "# Time slots and answer placeholders\n",
    "slot = [0] * (n + 1) \n",
    "total_profit = 0 \n",
    "ans = ['null'] * (n + 1) \n",
    "\n",
    "# Greedy job assignment\n",
    "for i in range(n): \n",
    "    job = profitNJobs[i] \n",
    "    for j in range(min(n, job[2]), 0, -1): \n",
    "        if slot[j] == 0: \n",
    "            ans[j] = job[1] \n",
    "            total_profit += job[0] \n",
    "            slot[j] = 1 \n",
    "            break \n",
    "\n",
    "# Output result\n",
    "print(\"Jobs scheduled:\", ans[1:]) \n",
    "print(\"Total profit:\", total_profit)\n"
   ]
  },
  {
   "cell_type": "code",
   "execution_count": null,
   "id": "675b3de6-7f4d-4ff7-9f05-13809d8fa36e",
   "metadata": {},
   "outputs": [],
   "source": []
  }
 ],
 "metadata": {
  "kernelspec": {
   "display_name": "Python [conda env:base] *",
   "language": "python",
   "name": "conda-base-py"
  },
  "language_info": {
   "codemirror_mode": {
    "name": "ipython",
    "version": 3
   },
   "file_extension": ".py",
   "mimetype": "text/x-python",
   "name": "python",
   "nbconvert_exporter": "python",
   "pygments_lexer": "ipython3",
   "version": "3.12.7"
  }
 },
 "nbformat": 4,
 "nbformat_minor": 5
}
