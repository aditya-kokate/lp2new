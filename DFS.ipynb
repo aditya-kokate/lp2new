{
 "cells": [
  {
   "cell_type": "code",
   "execution_count": null,
   "id": "a1b3fc37-7895-4753-9139-5cbf75e24f28",
   "metadata": {},
   "outputs": [
    {
     "name": "stdout",
     "output_type": "stream",
     "text": [
      "Aditya kokate | Roll No. TACO22147\n"
     ]
    },
    {
     "name": "stdin",
     "output_type": "stream",
     "text": [
      "Enter the number of vertices:  5\n",
      "Enter a vertex:  a\n",
      "Enter its neighbors (space separated):  b c\n",
      "Enter a vertex:  b\n",
      "Enter its neighbors (space separated):  b d\n",
      "Enter a vertex:  c\n"
     ]
    }
   ],
   "source": [
    "from collections import defaultdict\n",
    "\n",
    "# Recursive DFS function to search all vertices\n",
    "def dfs_recursive(graph, vertex, visited, path, goal):\n",
    "    # Mark the current vertex as visited\n",
    "    visited.add(vertex)\n",
    "    path.append(vertex)  # Add the vertex to the current path\n",
    "    \n",
    "    # If we reach the goal vertex, print the path\n",
    "    if vertex == goal:\n",
    "        print(\"Path to goal:\", path)\n",
    "        return True  # Return True if goal is found, to stop further recursion\n",
    "    \n",
    "    # Recur for all the vertices adjacent to this vertex\n",
    "    for neighbor in graph[vertex]:\n",
    "        if neighbor not in visited:\n",
    "            if dfs_recursive(graph, neighbor, visited, path, goal):\n",
    "                return True  # If goal is found, propagate True upwards\n",
    "\n",
    "    # If the goal is not found, remove the vertex from the path (backtracking)\n",
    "    path.pop()\n",
    "    return False\n",
    "\n",
    "# Taking dynamic input for the graph\n",
    "graph = defaultdict(set)\n",
    "print(\"Aditya kokate | Roll No. TACO22147\")\n",
    "\n",
    "num_vertices = int(input(\"Enter the number of vertices: \"))\n",
    "\n",
    "# Build the graph\n",
    "for _ in range(num_vertices):\n",
    "    node = input(\"Enter a vertex: \")\n",
    "    neighbors = input(\"Enter its neighbors (space separated): \").split()\n",
    "    graph[node].update(neighbors)\n",
    "    # Since the graph is undirected, we also add the reverse edge\n",
    "    for neighbor in neighbors:\n",
    "        graph[neighbor].add(node)\n",
    "\n",
    "start_vertex = input(\"Enter the starting vertex: \")\n",
    "goal_vertex = input(\"Enter the goal vertex: \")\n",
    "\n",
    "# Perform Recursive DFS Traversal and find path to goal\n",
    "visited_set = set()  # Set to keep track of visited vertices\n",
    "path = []  # To store the path from start to goal\n",
    "\n",
    "print(\"\\nRecursive DFS Traversal:\")\n",
    "dfs_recursive(graph, start_vertex, visited_set, path, goal_vertex)\n"
   ]
  },
  {
   "cell_type": "code",
   "execution_count": null,
   "id": "6a1590d2",
   "metadata": {},
   "outputs": [],
   "source": []
  }
 ],
 "metadata": {
  "kernelspec": {
   "display_name": "Python [conda env:base] *",
   "language": "python",
   "name": "conda-base-py"
  },
  "language_info": {
   "codemirror_mode": {
    "name": "ipython",
    "version": 3
   },
   "file_extension": ".py",
   "mimetype": "text/x-python",
   "name": "python",
   "nbconvert_exporter": "python",
   "pygments_lexer": "ipython3",
   "version": "3.12.7"
  }
 },
 "nbformat": 4,
 "nbformat_minor": 5
}
