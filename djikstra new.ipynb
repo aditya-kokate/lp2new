{
 "cells": [
  {
   "cell_type": "code",
   "execution_count": 1,
   "id": "840a347a-0a83-49f1-9fa1-311e380dc93e",
   "metadata": {},
   "outputs": [
    {
     "name": "stdout",
     "output_type": "stream",
     "text": [
      "Aditya Kokate TACO22147\n"
     ]
    },
    {
     "name": "stdin",
     "output_type": "stream",
     "text": [
      "Enter the number of vertices:  5\n"
     ]
    },
    {
     "name": "stdout",
     "output_type": "stream",
     "text": [
      "Enter the graph matrix:\n"
     ]
    },
    {
     "name": "stdin",
     "output_type": "stream",
     "text": [
      " 0 2 7 6 4\n",
      " 0 3 4 2 3\n",
      " 9 0 4 6 5\n",
      " 2 0 1 3 4\n",
      " 7 6 4 0 1\n",
      "Enter the source vertex:  0\n"
     ]
    },
    {
     "name": "stdout",
     "output_type": "stream",
     "text": [
      "Vertex \tDistance from Source\n",
      "0 \t 0\n",
      "1 \t 2\n",
      "2 \t 5\n",
      "3 \t 4\n",
      "4 \t 4\n"
     ]
    }
   ],
   "source": [
    "import sys\n",
    "\n",
    "class Graph():\n",
    "    def __init__(self, vertices):\n",
    "        self.V = vertices\n",
    "        self.graph = [[0 for column in range(vertices)]\n",
    "                      for row in range(vertices)]\n",
    "\n",
    "    def printSolution(self, dist):\n",
    "        print(\"Vertex \\tDistance from Source\")\n",
    "        for node in range(self.V):\n",
    "            print(node, \"\\t\", dist[node])\n",
    "\n",
    "    def minDistance(self, dist, sptSet):\n",
    "        min_val = sys.maxsize\n",
    "        min_index = -1\n",
    "\n",
    "        for u in range(self.V):\n",
    "            if dist[u] < min_val and sptSet[u] == False:\n",
    "                min_val = dist[u]\n",
    "                min_index = u\n",
    "\n",
    "        return min_index\n",
    "\n",
    "    def dijkstra(self, src):\n",
    "        dist = [sys.maxsize] * self.V\n",
    "        dist[src] = 0\n",
    "        sptSet = [False] * self.V\n",
    "\n",
    "        for cout in range(self.V):\n",
    "            x = self.minDistance(dist, sptSet)\n",
    "            sptSet[x] = True\n",
    "\n",
    "            for y in range(self.V):\n",
    "                if (self.graph[x][y] > 0 and \n",
    "                    not sptSet[y] and \n",
    "                    dist[y] > dist[x] + self.graph[x][y]):\n",
    "                    dist[y] = dist[x] + self.graph[x][y]\n",
    "\n",
    "        self.printSolution(dist)\n",
    "print(\"Aditya Kokate TACO22147\")\n",
    "if __name__ == \"__main__\":\n",
    "    vertices = int(input(\"Enter the number of vertices: \"))\n",
    "    graph = []\n",
    "    print(\"Enter the graph matrix:\")\n",
    "    for i in range(vertices):\n",
    "        row = list(map(int, input().split()))\n",
    "        graph.append(row)\n",
    "\n",
    "    g = Graph(vertices)\n",
    "    g.graph = graph\n",
    "\n",
    "    src = int(input(\"Enter the source vertex: \"))\n",
    "    g.dijkstra(src)\n"
   ]
  },
  {
   "cell_type": "code",
   "execution_count": null,
   "id": "bd5b8c74-587e-4505-a2ef-a40f79eb30aa",
   "metadata": {},
   "outputs": [],
   "source": []
  }
 ],
 "metadata": {
  "kernelspec": {
   "display_name": "Python [conda env:base] *",
   "language": "python",
   "name": "conda-base-py"
  },
  "language_info": {
   "codemirror_mode": {
    "name": "ipython",
    "version": 3
   },
   "file_extension": ".py",
   "mimetype": "text/x-python",
   "name": "python",
   "nbconvert_exporter": "python",
   "pygments_lexer": "ipython3",
   "version": "3.12.7"
  }
 },
 "nbformat": 4,
 "nbformat_minor": 5
}
